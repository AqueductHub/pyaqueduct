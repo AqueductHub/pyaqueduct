{
 "cells": [
  {
   "cell_type": "markdown",
   "metadata": {},
   "source": [
    "# PyAqueduct Application Programming Interface (API) Tutorial\n",
    "\n",
    "In this tutorial, the API of PyAqueduct is introduced by working on a sample experiment. The sample experiment generates some results in the form of different files such as CSV, JSON, HDF5, and image files. Each execution of the experiment generates new set of files and therefore, is treated as a new experiment run."
   ]
  },
  {
   "cell_type": "markdown",
   "metadata": {},
   "source": [
    "## Experiment: analysis a projectile motion "
   ]
  },
  {
   "cell_type": "code",
   "execution_count": null,
   "metadata": {},
   "outputs": [],
   "source": [
    "# Install experiment dependecies.\n",
    "import sys\n",
    "!{sys.executable} -m pip install numpy pandas matplotlib h5py"
   ]
  },
  {
   "cell_type": "code",
   "execution_count": null,
   "metadata": {},
   "outputs": [],
   "source": [
    "import os\n",
    "import numpy as np\n",
    "import pandas as pd\n",
    "import matplotlib.pyplot as plt\n",
    "import json\n",
    "import h5py\n",
    "\n",
    "\n",
    "def simulate_projectile_motion(v0: float, angle: float, g: float = 9.81) -> pd.DataFrame:\n",
    "    \"\"\"\n",
    "    Simulates the projectile motion.\n",
    "\n",
    "    Args:\n",
    "        v0: Initial velocity in m/s.\n",
    "        angle: Launch angle in degrees.\n",
    "        g: Acceleration due to gravity in m/s^2 (default is 9.81).\n",
    "\n",
    "    Returns:\n",
    "        DataFrame containing time, x and y positions.\n",
    "    \"\"\"\n",
    "    # Time of flight calculation\n",
    "    t_max = 2 * v0 * np.sin(np.radians(angle)) / g\n",
    "    time_steps = np.linspace(0, t_max, num=50)\n",
    "\n",
    "    # Position calculations\n",
    "    x = v0 * np.cos(np.radians(angle)) * time_steps\n",
    "    y = v0 * np.sin(np.radians(angle)) * time_steps - 0.5 * g * time_steps**2\n",
    "\n",
    "    return pd.DataFrame({\"Time (s)\": time_steps, \"X Position (m)\": x, \"Y Position (m)\": y})\n",
    "\n",
    "\n",
    "def save_data_formats(data: pd.DataFrame, base_path: str) -> None:\n",
    "    \"\"\"\n",
    "    Saves data in different formats: CSV, JSON, and HDF5.\n",
    "\n",
    "    Args:\n",
    "        data: Data to save.\n",
    "        base_path: Base file path without extension.\n",
    "    \"\"\"\n",
    "    # CSV\n",
    "    csv_path = f\"{base_path}.csv\"\n",
    "    data.to_csv(csv_path, index=False)\n",
    "\n",
    "    # JSON\n",
    "    json_path = f\"{base_path}.json\"\n",
    "    with open(json_path, \"w\") as json_file:\n",
    "        json.dump(data.to_dict(orient=\"records\"), json_file)\n",
    "\n",
    "    # HDF5\n",
    "    hdf5_path = f\"{base_path}.hdf5\"\n",
    "    with h5py.File(hdf5_path, \"w\") as hdf_file:\n",
    "        for column in data.columns:\n",
    "            hdf_file.create_dataset(column, data=data[column].values)\n",
    "\n",
    "\n",
    "def plot_trajectory(data: pd.DataFrame, image_path: str) -> None:\n",
    "    \"\"\"\n",
    "    Plots the trajectory of the projectile motion.\n",
    "\n",
    "    Args:\n",
    "        data: Data containing the trajectory.\n",
    "        image_path: Path to save the plot image.\n",
    "    \"\"\"\n",
    "    plt.figure(figsize=(8, 6))\n",
    "    plt.plot(data[\"X Position (m)\"], data[\"Y Position (m)\"])\n",
    "    plt.title(\"Projectile Motion Trajectory\")\n",
    "    plt.xlabel(\"X Position (m)\")\n",
    "    plt.ylabel(\"Y Position (m)\")\n",
    "    plt.grid(True)\n",
    "    plt.savefig(image_path)\n",
    "\n",
    "\n",
    "# Parameters for the simulation\n",
    "initial_velocity = 20  # m/s\n",
    "launch_angle = 45  # degrees\n",
    "\n",
    "# Simulate the projectile motion\n",
    "projectile_data = simulate_projectile_motion(initial_velocity, launch_angle)\n",
    "\n",
    "# Save the data in different formats\n",
    "base_file_path = os.path.join(os.getcwd(), \"projectile_motion\")\n",
    "save_data_formats(projectile_data, base_file_path)\n",
    "\n",
    "# Plot and save the trajectory\n",
    "plot_image_path = os.path.join(os.getcwd(), \"projectile_motion_plot.png\")\n",
    "\n",
    "plot_trajectory(projectile_data, plot_image_path)\n",
    "\n",
    "print(\"Simulation and data processing completed.\")"
   ]
  },
  {
   "cell_type": "markdown",
   "metadata": {},
   "source": [
    "## Create experiment on Aqueudct"
   ]
  },
  {
   "cell_type": "code",
   "execution_count": null,
   "metadata": {},
   "outputs": [],
   "source": [
    "from pyaqueduct import API\n",
    "\n",
    "api = API(\"[AQUEDUCT_SERVER_URL_PLACE_HOLDER]\", timeout=1)\n",
    "\n",
    "experiment = api.create_experiment(\n",
    "    title=\"Motion Simulation Experiment\", description=\"Tutorial experiment: motion simulation.\"\n",
    ")\n",
    "\n",
    "print(f\"Experiment created with unique id: {experiment.alias}\")"
   ]
  },
  {
   "cell_type": "markdown",
   "metadata": {},
   "source": [
    "## Add tags to experiment"
   ]
  },
  {
   "cell_type": "code",
   "execution_count": null,
   "metadata": {},
   "outputs": [],
   "source": [
    "experiment.add_tag(\"motion\")\n",
    "experiment.add_tag(\"simulation\")\n",
    "experiment.add_tag(\"notebook\")\n",
    "\n",
    "experiment.tags"
   ]
  },
  {
   "cell_type": "markdown",
   "metadata": {},
   "source": [
    "## Remove tags from experiment"
   ]
  },
  {
   "cell_type": "code",
   "execution_count": null,
   "metadata": {},
   "outputs": [],
   "source": [
    "experiment.remove_tag(\"simulation\")\n",
    "experiment.remove_tag(\"notebook\")\n",
    "\n",
    "experiment.tags"
   ]
  },
  {
   "cell_type": "markdown",
   "metadata": {},
   "source": [
    "## Update experiment and file download/upload"
   ]
  },
  {
   "cell_type": "code",
   "execution_count": null,
   "metadata": {},
   "outputs": [],
   "source": [
    "experiment.title = \"Motion Simulation\"\n",
    "experiment.description = \"Motion Simulation\"\n",
    "\n",
    "print(f\"Experiment title: {experiment.title}\")\n",
    "print(f\"Experiment title: {experiment.description}\")\n",
    "print(f\"Experiment creation date: {experiment.created_at}\")\n",
    "print(f\"Experiment last update date: {experiment.updated_at}\")\n",
    "print(f\"Experiment tags: {experiment.tags}\")"
   ]
  },
  {
   "cell_type": "markdown",
   "metadata": {},
   "source": [
    "## Upload files"
   ]
  },
  {
   "cell_type": "code",
   "execution_count": null,
   "metadata": {},
   "outputs": [],
   "source": [
    "experiment.upload_file(file=\"projectile_motion.csv\")\n",
    "experiment.upload_file(file=\"projectile_motion.json\")\n",
    "experiment.upload_file(file=\"projectile_motion.hdf5\")\n",
    "experiment.upload_file(file=\"projectile_motion_plot.png\")"
   ]
  },
  {
   "cell_type": "markdown",
   "metadata": {},
   "source": [
    "## Download files"
   ]
  },
  {
   "cell_type": "code",
   "execution_count": null,
   "metadata": {},
   "outputs": [],
   "source": [
    "download_dir = os.path.join(os.getcwd(), \"downloads\")\n",
    "if not os.path.exists(download_dir):\n",
    "    os.makedirs(download_dir)\n",
    "\n",
    "experiment.download_file(file_name=\"projectile_motion.csv\", destination_dir=download_dir)\n",
    "experiment.download_file(file_name=\"projectile_motion.json\", destination_dir=download_dir)\n",
    "experiment.download_file(file_name=\"projectile_motion.hdf5\", destination_dir=download_dir)\n",
    "experiment.download_file(file_name=\"projectile_motion_plot.png\", destination_dir=download_dir)"
   ]
  },
  {
   "cell_type": "markdown",
   "metadata": {},
   "source": [
    "## Get specific experiment"
   ]
  },
  {
   "cell_type": "code",
   "execution_count": null,
   "metadata": {},
   "outputs": [],
   "source": [
    "experiment = api.get_experiment(\"[Experiment ID]\")\n",
    "\n",
    "print(f\"Experiment title: {experiment.title}\")\n",
    "print(f\"Experiment title: {experiment.description}\")\n",
    "print(f\"Experiment creation date: {experiment.created_at}\")\n",
    "print(f\"Experiment last update date: {experiment.updated_at}\")\n",
    "print(f\"Experiment tags: {experiment.tags}\")"
   ]
  },
  {
   "cell_type": "markdown",
   "metadata": {},
   "source": [
    "## Search through Experiments"
   ]
  },
  {
   "cell_type": "code",
   "execution_count": null,
   "metadata": {},
   "outputs": [],
   "source": [
    "from datetime import datetime, timedelta\n",
    "\n",
    "# Search through the experiments by their title or alias. The search is wild card type, so it returns any combination of the provider string like *search_string*.\n",
    "experiments_list = api.find_experiments(search=\"[search criteria, experiment title or alias]\")\n",
    "\n",
    "# Find experiments that the ALL of provided tags in the argument are assigned them. It is an AND operation between the tags when searching through experiments.\n",
    "experiments_list = api.find_experiments(tags=[\"tag1\", \"tag2\"])\n",
    "\n",
    "# Find experiments with creation datetime after the specified datetime.\n",
    "experiments_list = api.find_experiments(start_datetime=datetime.now() - timedelta(days=1))\n",
    "\n",
    "# Find experiments with creation datetime before the specified datetime.\n",
    "experiments_list = api.find_experiments(end_datetime=datetime.now() + timedelta(days=1))\n",
    "\n",
    "# Find experiments with creation datetime between the specified datetimes.\n",
    "experiments_list = api.find_experiments(\n",
    "    start_datetime=datetime.now() - timedelta(days=1),\n",
    "    end_datetime=datetime.now() + timedelta(days=1),\n",
    ")\n",
    "\n",
    "\n",
    "# You can also limit the results via pagination (default limit is 10 items per page) ordered by creation datetime.\n",
    "# In this example we only retrieve maximum 20 experimets starting from the 10th experiment (inclusive) with the specified tags.\n",
    "experiments_list = api.find_experiments(limit=20, offset=10, tags=[\"tag1\", \"tag2\"])"
   ]
  }
 ],
 "metadata": {
  "kernelspec": {
   "display_name": ".venv",
   "language": "python",
   "name": "python3"
  },
  "language_info": {
   "codemirror_mode": {
    "name": "ipython",
    "version": 3
   },
   "file_extension": ".py",
   "mimetype": "text/x-python",
   "name": "python",
   "nbconvert_exporter": "python",
   "pygments_lexer": "ipython3",
   "version": "3.10.12"
  }
 },
 "nbformat": 4,
 "nbformat_minor": 2
}
